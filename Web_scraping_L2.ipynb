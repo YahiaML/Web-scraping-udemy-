{
  "nbformat": 4,
  "nbformat_minor": 0,
  "metadata": {
    "colab": {
      "name": "Web scraping L2.ipynb",
      "provenance": [],
      "authorship_tag": "ABX9TyNAC9GM3Zp8OKMhv5/rgblc"
    },
    "kernelspec": {
      "name": "python3",
      "display_name": "Python 3"
    },
    "language_info": {
      "name": "python"
    }
  },
  "cells": [
    {
      "cell_type": "code",
      "execution_count": 12,
      "metadata": {
        "id": "fB8TknogBheX"
      },
      "outputs": [],
      "source": [
        "from bs4 import BeautifulSoup\n",
        "import requests"
      ]
    },
    {
      "cell_type": "code",
      "source": [
        "url = \"https://boston.craigslist.org/search/sof\""
      ],
      "metadata": {
        "id": "qhMNxO8LCTSI"
      },
      "execution_count": 13,
      "outputs": []
    },
    {
      "cell_type": "code",
      "source": [
        "response = requests.get(url)"
      ],
      "metadata": {
        "id": "Fi0MM5fJCXIG"
      },
      "execution_count": 14,
      "outputs": []
    },
    {
      "cell_type": "code",
      "source": [
        "response"
      ],
      "metadata": {
        "colab": {
          "base_uri": "https://localhost:8080/"
        },
        "id": "8fZAFRH8Cfsw",
        "outputId": "c47a5d22-1694-4e56-a3c8-447822236da9"
      },
      "execution_count": 15,
      "outputs": [
        {
          "output_type": "execute_result",
          "data": {
            "text/plain": [
              "<Response [200]>"
            ]
          },
          "metadata": {},
          "execution_count": 15
        }
      ]
    },
    {
      "cell_type": "code",
      "source": [
        "data = response.text\n",
        "#data"
      ],
      "metadata": {
        "id": "tv-yM_8wChP_"
      },
      "execution_count": 16,
      "outputs": []
    },
    {
      "cell_type": "code",
      "source": [
        "soup = BeautifulSoup(data,\"html.parser\")\n",
        "soup"
      ],
      "metadata": {
        "id": "r09yV-4YCyJf"
      },
      "execution_count": null,
      "outputs": []
    },
    {
      "cell_type": "code",
      "source": [
        "tags = soup.find_all(\"a\")\n",
        "#tags"
      ],
      "metadata": {
        "id": "971jT-L0DOKe"
      },
      "execution_count": 18,
      "outputs": []
    },
    {
      "cell_type": "code",
      "source": [
        "for tag in tags:\n",
        "  print(tag.get(\"href\"))"
      ],
      "metadata": {
        "id": "01dVq7ECDfDG"
      },
      "execution_count": null,
      "outputs": []
    },
    {
      "cell_type": "code",
      "source": [
        "titles = soup.find_all(\"a\",{\"class\":\"result-title\"})"
      ],
      "metadata": {
        "id": "V5rOSWtZDgK2"
      },
      "execution_count": 38,
      "outputs": []
    },
    {
      "cell_type": "code",
      "source": [
        "for title in titles:\n",
        "  print(title.text)"
      ],
      "metadata": {
        "colab": {
          "base_uri": "https://localhost:8080/"
        },
        "id": "QgVE5AhIFWMz",
        "outputId": "1c27c024-127b-48ea-ff7d-81347b88db73"
      },
      "execution_count": 47,
      "outputs": [
        {
          "output_type": "stream",
          "name": "stdout",
          "text": [
            "Technical Program Manager | An Innovative Mobility Company\n",
            "VP, Engineering\n",
            "Software Engineering Manager\n",
            "Technical Program Manager | An Innovative Mobility Company\n",
            "Software Engineer - Remote Optional\n",
            "SOFTWARE ENGINEER\n",
            "Technical Program Manager (HW/SW)  | An Innovative Mobility Company\n",
            "Project Coordinator & Business Analyst\n",
            "Software Engineer\n",
            "Software Engineer - Remote Optional\n",
            "Technical Program Manager (HW/SW)  | An Innovative Mobility Company\n",
            "Design Program Coordinator | $44.00 - $47.00 per hour\n",
            "Software Engineer - Remote Optional\n",
            "Cybersecurity Certification and Re-employment program!\n",
            "Technical Program Manager | An Innovative Mobility Company\n",
            "Software Engineer - Remote Optional\n",
            "GIS Software Specialist\n",
            "Software Engineer - Remote Optional\n",
            "UX Research Coordinator | $25.00 - $28.00 per hour\n",
            "Design Program Coordinator | $44.00 - $47.00 per hour\n",
            "UX Research Coordinator | $25.00 - $28.00 per hour\n",
            "Oracle Cloud Integration Lead (Remote)\n",
            "Technical Program Manager | An Innovative Mobility Company\n",
            "Software Engineer - Remote Optional\n",
            "Software Engineer - Remote Optional\n",
            "Software Engineer - Remote Optional\n",
            "UX Research Coordinator | $25.00 - $28.00 per hour\n",
            "Design Program Coordinator | $44.00 - $47.00 per hour\n",
            "Engineer/Developer in Biotech (Remote and On-site)\n",
            "Project Coordinator & Business Analyst\n",
            "Technical Program Manager | An Innovative Mobility Company\n",
            "Real Estate  No Sales\n",
            "Cybersecurity Certification and Re-employment program!\n",
            "Licensed Electrician - $3,000 Sign On Bonus Available\n"
          ]
        }
      ]
    },
    {
      "cell_type": "code",
      "source": [
        "adresses = soup.find_all(\"span\",{\"class\":\"result-hood\"})"
      ],
      "metadata": {
        "id": "v_Za1n-gHQco"
      },
      "execution_count": 42,
      "outputs": []
    },
    {
      "cell_type": "code",
      "source": [
        "for adress in adresses:\n",
        "  print(adress.text)"
      ],
      "metadata": {
        "colab": {
          "base_uri": "https://localhost:8080/"
        },
        "id": "wwDmKil7HQcp",
        "outputId": "404e310d-e437-45db-bdd1-cb316a3b242d"
      },
      "execution_count": 48,
      "outputs": [
        {
          "output_type": "stream",
          "name": "stdout",
          "text": [
            " (boston/cambridge/brookline)\n",
            " (boston: boston/cambridge/brookline)\n",
            " (boston: boston/cambridge/brookline)\n",
            " (boston/cambridge/brookline)\n",
            " (boston/cambridge/brookline)\n",
            " (Boston area/Massachusetts region - telecommute)\n",
            " (boston/cambridge/brookline)\n",
            " (Cambridge / Boston Based)\n",
            " (metro west)\n",
            " (boston/cambridge/brookline)\n",
            " (boston/cambridge/brookline)\n",
            " (boston/cambridge/brookline)\n",
            " (boston/cambridge/brookline)\n",
            " (Boston, MA)\n",
            " (boston/cambridge/brookline)\n",
            " (boston/cambridge/brookline)\n",
            " (Framingham)\n",
            " (boston/cambridge/brookline)\n",
            " (boston/cambridge/brookline)\n",
            " (boston/cambridge/brookline)\n",
            " (boston/cambridge/brookline)\n",
            " (Boston, MA)\n",
            " (boston/cambridge/brookline)\n",
            " (boston/cambridge/brookline)\n",
            " (boston/cambridge/brookline)\n",
            " (boston/cambridge/brookline)\n",
            " (boston/cambridge/brookline)\n",
            " (boston/cambridge/brookline)\n",
            " (boston/cambridge/brookline)\n",
            " (Cambridge / Boston Based)\n",
            " (boston/cambridge/brookline)\n"
          ]
        }
      ]
    },
    {
      "cell_type": "code",
      "source": [
        "near_bys = soup.find_all(\"span\",{\"class\":\"nearby\"})"
      ],
      "metadata": {
        "id": "xRPScPmAIN0O"
      },
      "execution_count": 45,
      "outputs": []
    },
    {
      "cell_type": "code",
      "source": [
        "for near_by in near_bys:\n",
        "  print(near_by.text)"
      ],
      "metadata": {
        "colab": {
          "base_uri": "https://localhost:8080/"
        },
        "id": "dyIdo50EIN0X",
        "outputId": "863f9d44-b75d-4868-d70f-a1e0b82672b0"
      },
      "execution_count": 49,
      "outputs": [
        {
          "output_type": "stream",
          "name": "stdout",
          "text": [
            "(nlo > Waterford)\n",
            "(htf > Hartford, CT)\n",
            "(prv > North Kingstown)\n"
          ]
        }
      ]
    }
  ]
}
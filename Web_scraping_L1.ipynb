{
  "nbformat": 4,
  "nbformat_minor": 0,
  "metadata": {
    "colab": {
      "name": "Web scraping L1.ipynb",
      "provenance": [],
      "authorship_tag": "ABX9TyMFfWHvMUssxPTckJyIOYUT"
    },
    "kernelspec": {
      "name": "python3",
      "display_name": "Python 3"
    },
    "language_info": {
      "name": "python"
    }
  },
  "cells": [
    {
      "cell_type": "code",
      "execution_count": null,
      "metadata": {
        "id": "fB8TknogBheX"
      },
      "outputs": [],
      "source": [
        "from bs4 import BeautifulSoup\n",
        "import requests"
      ]
    },
    {
      "cell_type": "code",
      "source": [
        "url = \"https://boston.craigslist.org/search/sof\""
      ],
      "metadata": {
        "id": "qhMNxO8LCTSI"
      },
      "execution_count": null,
      "outputs": []
    },
    {
      "cell_type": "code",
      "source": [
        "response = requests.get(url)"
      ],
      "metadata": {
        "id": "Fi0MM5fJCXIG"
      },
      "execution_count": null,
      "outputs": []
    },
    {
      "cell_type": "code",
      "source": [
        "response"
      ],
      "metadata": {
        "colab": {
          "base_uri": "https://localhost:8080/"
        },
        "id": "8fZAFRH8Cfsw",
        "outputId": "264fc296-2231-4c19-a81a-f4794e3989c8"
      },
      "execution_count": null,
      "outputs": [
        {
          "output_type": "execute_result",
          "data": {
            "text/plain": [
              "<Response [200]>"
            ]
          },
          "metadata": {},
          "execution_count": 6
        }
      ]
    },
    {
      "cell_type": "code",
      "source": [
        "data = response.text\n",
        "#data"
      ],
      "metadata": {
        "id": "tv-yM_8wChP_"
      },
      "execution_count": null,
      "outputs": []
    },
    {
      "cell_type": "code",
      "source": [
        "soup = BeautifulSoup(data,\"html.parser\")\n",
        "#soup"
      ],
      "metadata": {
        "id": "r09yV-4YCyJf"
      },
      "execution_count": null,
      "outputs": []
    },
    {
      "cell_type": "code",
      "source": [
        "tags = soup.find_all(\"a\")\n",
        "#tags"
      ],
      "metadata": {
        "id": "971jT-L0DOKe"
      },
      "execution_count": null,
      "outputs": []
    },
    {
      "cell_type": "code",
      "source": [
        "for tag in tags:\n",
        "  print(tag.get(\"href\"))"
      ],
      "metadata": {
        "id": "01dVq7ECDfDG"
      },
      "execution_count": null,
      "outputs": []
    },
    {
      "cell_type": "code",
      "source": [
        ""
      ],
      "metadata": {
        "id": "V5rOSWtZDgK2"
      },
      "execution_count": null,
      "outputs": []
    }
  ]
}
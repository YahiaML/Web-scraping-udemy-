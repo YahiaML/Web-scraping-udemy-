{
  "nbformat": 4,
  "nbformat_minor": 0,
  "metadata": {
    "colab": {
      "name": "Web scraping L3.ipynb",
      "provenance": [],
      "authorship_tag": "ABX9TyOmMIJ+b8qC4E/6R/uwLUse"
    },
    "kernelspec": {
      "name": "python3",
      "display_name": "Python 3"
    },
    "language_info": {
      "name": "python"
    }
  },
  "cells": [
    {
      "cell_type": "code",
      "execution_count": 12,
      "metadata": {
        "id": "fB8TknogBheX"
      },
      "outputs": [],
      "source": [
        "from bs4 import BeautifulSoup\n",
        "import requests"
      ]
    },
    {
      "cell_type": "code",
      "source": [
        "url = \"https://boston.craigslist.org/search/sof\""
      ],
      "metadata": {
        "id": "qhMNxO8LCTSI"
      },
      "execution_count": 13,
      "outputs": []
    },
    {
      "cell_type": "code",
      "source": [
        "response = requests.get(url)"
      ],
      "metadata": {
        "id": "Fi0MM5fJCXIG"
      },
      "execution_count": 14,
      "outputs": []
    },
    {
      "cell_type": "code",
      "source": [
        "data = response.text"
      ],
      "metadata": {
        "id": "tv-yM_8wChP_"
      },
      "execution_count": 16,
      "outputs": []
    },
    {
      "cell_type": "code",
      "source": [
        "soup = BeautifulSoup(data,\"html.parser\")\n"
      ],
      "metadata": {
        "id": "r09yV-4YCyJf"
      },
      "execution_count": 17,
      "outputs": []
    },
    {
      "cell_type": "code",
      "source": [
        "jobs = soup.find_all('div',{'class':'result-info'})"
      ],
      "metadata": {
        "id": "wOH2QXIchmJm"
      },
      "execution_count": 27,
      "outputs": []
    },
    {
      "cell_type": "code",
      "source": [
        "for job in jobs:\n",
        "  title = job.find(\"a\",{\"class\":\"result-title\"}).text\n",
        "\n",
        "  location_tag = job.find(\"span\",{\"class\":\"result-hood\"})\n",
        "  location = location_tag.text[2:-2] if location_tag else \"N/A\"\n",
        "\n",
        "  date = job.find(\"time\",{\"class\":\"result-date\"}).text\n",
        "\n",
        "  link = job.find(\"a\",{\"class\":\"result-title\"}).get(\"href\")\n",
        "\n",
        "  print(\"Job title:\", title, \"\\nLocation:\", location, \"\\nPosting Date:\", date, \"\\nLink:\", link, \"\\n\", \"-\"*40)"
      ],
      "metadata": {
        "colab": {
          "base_uri": "https://localhost:8080/"
        },
        "id": "pkxDjnGnmhJ8",
        "outputId": "574b3d7d-2de6-4344-d973-a3d216d4ec68"
      },
      "execution_count": 34,
      "outputs": [
        {
          "output_type": "stream",
          "name": "stdout",
          "text": [
            "Job title: Technical Program Manager | An Innovative Mobility Company \n",
            "Location: boston/cambridge/brooklin \n",
            "Posting Date: Jul 11 \n",
            "Link: https://boston.craigslist.org/gbs/sof/d/cambridge-technical-program-manager-an/7507555838.html \n",
            " ----------------------------------------\n",
            "Job title: VP, Engineering \n",
            "Location: boston: boston/cambridge/brooklin \n",
            "Posting Date: Jul  8 \n",
            "Link: https://boston.craigslist.org/gbs/sof/d/boston-vp-engineering/7506455303.html \n",
            " ----------------------------------------\n",
            "Job title: Software Engineering Manager \n",
            "Location: boston: boston/cambridge/brooklin \n",
            "Posting Date: Jul  7 \n",
            "Link: https://boston.craigslist.org/gbs/sof/d/boston-software-engineering-manager/7505992135.html \n",
            " ----------------------------------------\n",
            "Job title: Technical Program Manager | An Innovative Mobility Company \n",
            "Location: boston/cambridge/brooklin \n",
            "Posting Date: Jul  7 \n",
            "Link: https://boston.craigslist.org/gbs/sof/d/cambridge-technical-program-manager-an/7505819996.html \n",
            " ----------------------------------------\n",
            "Job title: Software Engineer - Remote Optional \n",
            "Location: boston/cambridge/brooklin \n",
            "Posting Date: Jul  7 \n",
            "Link: https://boston.craigslist.org/gbs/sof/d/roxbury-software-engineer-remote/7505786864.html \n",
            " ----------------------------------------\n",
            "Job title: SOFTWARE ENGINEER \n",
            "Location: Boston area/Massachusetts region - telecommut \n",
            "Posting Date: Jul  6 \n",
            "Link: https://boston.craigslist.org/gbs/sof/d/princeton-software-engineer/7505265648.html \n",
            " ----------------------------------------\n",
            "Job title: Technical Program Manager (HW/SW)  | An Innovative Mobility Company \n",
            "Location: boston/cambridge/brooklin \n",
            "Posting Date: Jul  5 \n",
            "Link: https://boston.craigslist.org/gbs/sof/d/cambridge-technical-program-manager-hw/7505044761.html \n",
            " ----------------------------------------\n",
            "Job title: Project Coordinator & Business Analyst \n",
            "Location: Cambridge / Boston Base \n",
            "Posting Date: Jul  5 \n",
            "Link: https://boston.craigslist.org/gbs/sof/d/cambridge-project-coordinator-business/7505037284.html \n",
            " ----------------------------------------\n",
            "Job title: Software Engineer \n",
            "Location: metro wes \n",
            "Posting Date: Jul  5 \n",
            "Link: https://boston.craigslist.org/bmw/sof/d/boxborough-software-engineer/7505010102.html \n",
            " ----------------------------------------\n",
            "Job title: Software Engineer - Remote Optional \n",
            "Location: boston/cambridge/brooklin \n",
            "Posting Date: Jul  5 \n",
            "Link: https://boston.craigslist.org/gbs/sof/d/roxbury-software-engineer-remote/7504896774.html \n",
            " ----------------------------------------\n",
            "Job title: Technical Program Manager (HW/SW)  | An Innovative Mobility Company \n",
            "Location: boston/cambridge/brooklin \n",
            "Posting Date: Jun 30 \n",
            "Link: https://boston.craigslist.org/gbs/sof/d/cambridge-technical-program-manager-hw/7503165931.html \n",
            " ----------------------------------------\n",
            "Job title: Design Program Coordinator | $44.00 - $47.00 per hour \n",
            "Location: boston/cambridge/brooklin \n",
            "Posting Date: Jun 30 \n",
            "Link: https://boston.craigslist.org/gbs/sof/d/boston-design-program-coordinator-per/7503163142.html \n",
            " ----------------------------------------\n",
            "Job title: Software Engineer - Remote Optional \n",
            "Location: boston/cambridge/brooklin \n",
            "Posting Date: Jun 30 \n",
            "Link: https://boston.craigslist.org/gbs/sof/d/roxbury-software-engineer-remote/7503074385.html \n",
            " ----------------------------------------\n",
            "Job title: Cybersecurity Certification and Re-employment program! \n",
            "Location: Boston, M \n",
            "Posting Date: Jun 29 \n",
            "Link: https://boston.craigslist.org/gbs/sof/d/boston-cybersecurity-certification-and/7502942131.html \n",
            " ----------------------------------------\n",
            "Job title: Technical Program Manager | An Innovative Mobility Company \n",
            "Location: boston/cambridge/brooklin \n",
            "Posting Date: Jun 29 \n",
            "Link: https://boston.craigslist.org/gbs/sof/d/cambridge-technical-program-manager-an/7502724386.html \n",
            " ----------------------------------------\n",
            "Job title: Software Engineer - Remote Optional \n",
            "Location: boston/cambridge/brooklin \n",
            "Posting Date: Jun 28 \n",
            "Link: https://boston.craigslist.org/gbs/sof/d/roxbury-software-engineer-remote/7502199472.html \n",
            " ----------------------------------------\n",
            "Job title: GIS Software Specialist \n",
            "Location: Framingha \n",
            "Posting Date: Jun 25 \n",
            "Link: https://boston.craigslist.org/bmw/sof/d/framingham-gis-software-specialist/7501075090.html \n",
            " ----------------------------------------\n",
            "Job title: Software Engineer - Remote Optional \n",
            "Location: boston/cambridge/brooklin \n",
            "Posting Date: Jun 23 \n",
            "Link: https://boston.craigslist.org/gbs/sof/d/roxbury-software-engineer-remote/7500158502.html \n",
            " ----------------------------------------\n",
            "Job title: UX Research Coordinator | $25.00 - $28.00 per hour \n",
            "Location: boston/cambridge/brooklin \n",
            "Posting Date: Jun 22 \n",
            "Link: https://boston.craigslist.org/gbs/sof/d/boston-ux-research-coordinator-per-hour/7499812003.html \n",
            " ----------------------------------------\n",
            "Job title: Design Program Coordinator | $44.00 - $47.00 per hour \n",
            "Location: boston/cambridge/brooklin \n",
            "Posting Date: Jun 22 \n",
            "Link: https://boston.craigslist.org/gbs/sof/d/boston-design-program-coordinator-per/7499811868.html \n",
            " ----------------------------------------\n",
            "Job title: UX Research Coordinator | $25.00 - $28.00 per hour \n",
            "Location: boston/cambridge/brooklin \n",
            "Posting Date: Jun 22 \n",
            "Link: https://boston.craigslist.org/gbs/sof/d/boston-ux-research-coordinator-per-hour/7499811765.html \n",
            " ----------------------------------------\n",
            "Job title: Oracle Cloud Integration Lead (Remote) \n",
            "Location: Boston, M \n",
            "Posting Date: Jun 22 \n",
            "Link: https://boston.craigslist.org/gbs/sof/d/boston-oracle-cloud-integration-lead/7499805508.html \n",
            " ----------------------------------------\n",
            "Job title: Technical Program Manager | An Innovative Mobility Company \n",
            "Location: boston/cambridge/brooklin \n",
            "Posting Date: Jun 22 \n",
            "Link: https://boston.craigslist.org/gbs/sof/d/cambridge-technical-program-manager-an/7499801909.html \n",
            " ----------------------------------------\n",
            "Job title: Software Engineer - Remote Optional \n",
            "Location: boston/cambridge/brooklin \n",
            "Posting Date: Jun 21 \n",
            "Link: https://boston.craigslist.org/gbs/sof/d/roxbury-software-engineer-remote/7499284742.html \n",
            " ----------------------------------------\n",
            "Job title: Software Engineer - Remote Optional \n",
            "Location: boston/cambridge/brooklin \n",
            "Posting Date: Jun 16 \n",
            "Link: https://boston.craigslist.org/gbs/sof/d/roxbury-software-engineer-remote/7497199290.html \n",
            " ----------------------------------------\n",
            "Job title: Software Engineer - Remote Optional \n",
            "Location: boston/cambridge/brooklin \n",
            "Posting Date: Jun 14 \n",
            "Link: https://boston.craigslist.org/gbs/sof/d/roxbury-software-engineer-remote/7496415032.html \n",
            " ----------------------------------------\n",
            "Job title: UX Research Coordinator | $25.00 - $28.00 per hour \n",
            "Location: boston/cambridge/brooklin \n",
            "Posting Date: Jun 14 \n",
            "Link: https://boston.craigslist.org/gbs/sof/d/boston-ux-research-coordinator-per-hour/7496370501.html \n",
            " ----------------------------------------\n",
            "Job title: Design Program Coordinator | $44.00 - $47.00 per hour \n",
            "Location: boston/cambridge/brooklin \n",
            "Posting Date: Jun 14 \n",
            "Link: https://boston.craigslist.org/gbs/sof/d/boston-design-program-coordinator-per/7496370036.html \n",
            " ----------------------------------------\n",
            "Job title: Engineer/Developer in Biotech (Remote and On-site) \n",
            "Location: boston/cambridge/brooklin \n",
            "Posting Date: Jun 13 \n",
            "Link: https://boston.craigslist.org/gbs/sof/d/cambridge-engineer-developer-in-biotech/7496147716.html \n",
            " ----------------------------------------\n",
            "Job title: Project Coordinator & Business Analyst \n",
            "Location: Cambridge / Boston Base \n",
            "Posting Date: Jun 13 \n",
            "Link: https://boston.craigslist.org/gbs/sof/d/cambridge-project-coordinator-business/7496051312.html \n",
            " ----------------------------------------\n",
            "Job title: Technical Program Manager | An Innovative Mobility Company \n",
            "Location: boston/cambridge/brooklin \n",
            "Posting Date: Jun 13 \n",
            "Link: https://boston.craigslist.org/gbs/sof/d/cambridge-technical-program-manager-an/7496037606.html \n",
            " ----------------------------------------\n",
            "Job title: Real Estate  No Sales \n",
            "Location: N/A \n",
            "Posting Date: Jul  5 \n",
            "Link: https://newlondon.craigslist.org/sof/d/waterford-real-estate-no-sales/7504899037.html \n",
            " ----------------------------------------\n",
            "Job title: Cybersecurity Certification and Re-employment program! \n",
            "Location: N/A \n",
            "Posting Date: Jun 29 \n",
            "Link: https://hartford.craigslist.org/sof/d/west-hartford-cybersecurity/7502934693.html \n",
            " ----------------------------------------\n",
            "Job title: Licensed Electrician - $3,000 Sign On Bonus Available \n",
            "Location: N/A \n",
            "Posting Date: Jun 17 \n",
            "Link: https://providence.craigslist.org/sof/d/north-kingstown-licensed-electrician/7497734398.html \n",
            " ----------------------------------------\n"
          ]
        }
      ]
    }
  ]
}